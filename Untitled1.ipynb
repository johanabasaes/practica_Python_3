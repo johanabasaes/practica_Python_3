{
  "nbformat": 4,
  "nbformat_minor": 0,
  "metadata": {
    "colab": {
      "provenance": [],
      "authorship_tag": "ABX9TyOtptZvlYibRTKJUPecSTjc",
      "include_colab_link": true
    },
    "kernelspec": {
      "name": "python3",
      "display_name": "Python 3"
    },
    "language_info": {
      "name": "python"
    }
  },
  "cells": [
    {
      "cell_type": "markdown",
      "metadata": {
        "id": "view-in-github",
        "colab_type": "text"
      },
      "source": [
        "<a href=\"https://colab.research.google.com/github/johanabasaes/practica_Python_3/blob/main/Untitled1.ipynb\" target=\"_parent\"><img src=\"https://colab.research.google.com/assets/colab-badge.svg\" alt=\"Open In Colab\"/></a>"
      ]
    },
    {
      "cell_type": "markdown",
      "source": [
        "Vamos practicar el uso de estructuras de repetición como el \"while\" y el \"for\" a partir de algunas actividades. Ahora que estamos avanzando en el contenido, podemos hacer los desafíos más interesantes. ¡Para ello, trabajaremos en proyectos de código!\n",
        "\n",
        "Comencemos resolviendo algunos problemas para calentar y prepararnos para los proyectos.\n",
        "\n",
        "**Entrenando la programación**"
      ],
      "metadata": {
        "id": "76S8iqgYgjWh"
      }
    },
    {
      "cell_type": "markdown",
      "source": [
        "1 - Escribe un programa que solicite dos números enteros e imprima todos los números enteros entre ellos."
      ],
      "metadata": {
        "id": "IK0_UScwgsY3"
      }
    },
    {
      "cell_type": "code",
      "execution_count": 22,
      "metadata": {
        "colab": {
          "base_uri": "https://localhost:8080/"
        },
        "id": "Fw8aeHDLgfbD",
        "outputId": "e602a502-00a1-4944-c8a3-68601d895cf0"
      },
      "outputs": [
        {
          "output_type": "stream",
          "name": "stdout",
          "text": [
            "Ingrese el primer número: 1\n",
            "Ingrese el segundo número: 20\n",
            "2\n",
            "3\n",
            "4\n",
            "5\n",
            "6\n",
            "7\n",
            "8\n",
            "9\n",
            "10\n",
            "11\n",
            "12\n",
            "13\n",
            "14\n",
            "15\n",
            "16\n",
            "17\n",
            "18\n",
            "19\n"
          ]
        }
      ],
      "source": [
        "numero_1 = int(input(\"Ingrese el primer número: \"))\n",
        "numero_2 = int(input(\"Ingrese el segundo número: \"))\n",
        "for n in range(numero_1, numero_2):\n",
        "  if n == (numero_2 - 1):\n",
        "    break\n",
        "  print(n+1)"
      ]
    },
    {
      "cell_type": "markdown",
      "source": [
        "2 - Escribe un programa para calcular cuántos días tomará que la colonia de una bacteria A supere o iguale a la colonia de una bacteria B, basado en tasas de crecimiento del 3% y 1.5%, respectivamente. Supón que la colonia A comienza con 4 elementos y B con 10."
      ],
      "metadata": {
        "id": "VHNCmMarq0VF"
      }
    },
    {
      "cell_type": "code",
      "source": [
        "A = 4\n",
        "B = 10\n",
        "tasa_A = 0.03\n",
        "tasa_B = 0.015\n",
        "dias = 0\n",
        "while A <= B:\n",
        "  A *= (1 + tasa_A)\n",
        "  B *= (1 + tasa_B)\n",
        "  dias += 1\n",
        "print(f\"Tomará {dias} días para que la colonia A supere a la colonia B.\")\n"
      ],
      "metadata": {
        "colab": {
          "base_uri": "https://localhost:8080/"
        },
        "id": "mZFOrHT-hmIg",
        "outputId": "e0147719-7920-4b34-c1f3-87e3459de1c0"
      },
      "execution_count": 29,
      "outputs": [
        {
          "output_type": "stream",
          "name": "stdout",
          "text": [
            "Tomará 63 días para que la colonia A supere a la colonia B.\n"
          ]
        }
      ]
    },
    {
      "cell_type": "markdown",
      "source": [
        "3 - Para procesar una cantidad de 15 datos de evaluaciones de usuarios de un servicio de la empresa, necesitamos verificar si las calificaciones son válidas. Por lo tanto, escribe un programa que recibirá calificaciones del 0 al 5 y verificará si son valores válidos. Si se ingresa una calificación superior a 5 o inferior a 0, se repetirá hasta que el usuario ingrese un valor válido."
      ],
      "metadata": {
        "id": "2qsoryRLwRj4"
      }
    },
    {
      "cell_type": "code",
      "source": [
        "for e in range(1,16):\n",
        "  calificación = float (input(f'ingrese la calificación del usuario {e}: '))\n",
        "  while (calificación > 5) or (calificación < 0):\n",
        "    calificación = float(input(f'la calificación del alumno {e} no es válida, ingrese una calificación válida: '))\n",
        "print(f'los datos de todos los usuarios son válidos')\n",
        ""
      ],
      "metadata": {
        "colab": {
          "base_uri": "https://localhost:8080/"
        },
        "id": "51EbdFZMG-nT",
        "outputId": "2539cb86-eea4-4a97-83ac-56686389ef17"
      },
      "execution_count": 51,
      "outputs": [
        {
          "output_type": "stream",
          "name": "stdout",
          "text": [
            "ingrese la calificación del usuario 1: 5\n",
            "ingrese la calificación del usuario 2: 6\n",
            "la calificación del alumno 2 no es válida, ingrese una calificación válida: 4\n",
            "ingrese la calificación del usuario 3: 5\n",
            "ingrese la calificación del usuario 4: 1\n",
            "ingrese la calificación del usuario 5: 21\n",
            "la calificación del alumno 5 no es válida, ingrese una calificación válida: 2\n",
            "ingrese la calificación del usuario 6: 3\n",
            "ingrese la calificación del usuario 7: 4\n",
            "ingrese la calificación del usuario 8: 5\n",
            "ingrese la calificación del usuario 9: 12\n",
            "la calificación del alumno 9 no es válida, ingrese una calificación válida: 2\n",
            "ingrese la calificación del usuario 10: 3\n",
            "ingrese la calificación del usuario 11: 4\n",
            "ingrese la calificación del usuario 12: 5\n",
            "ingrese la calificación del usuario 13: 6\n",
            "la calificación del alumno 13 no es válida, ingrese una calificación válida: 1\n",
            "ingrese la calificación del usuario 14: 2\n",
            "ingrese la calificación del usuario 15: 5\n",
            "los datos de todos los usuarios son válidos\n"
          ]
        }
      ]
    },
    {
      "cell_type": "code",
      "source": [
        "5# Bucle para recopilar las 15 notas\n",
        "for i in range(15):\n",
        "  nota = float(input(f'Ingresa la nota del usuario {i}: '))\n",
        "\n",
        "  # Verifica si la nota está entre 0 y 5\n",
        "  # Si no lo está, el bucle se repetirá hasta que se obtenga un valor válido\n",
        "  while (nota < 0) or (nota > 5):\n",
        "    nota = float(input(f'Nota no válida, ingresa nuevamente la nota del usuario {i}: '))\n",
        "\n",
        "print('Verificación completa. Todas las notas son válidas.')"
      ],
      "metadata": {
        "id": "6MuzR6DpKKHv"
      },
      "execution_count": null,
      "outputs": []
    },
    {
      "cell_type": "markdown",
      "source": [
        "4 - Desarrolla un programa que lea un conjunto indefinido de temperaturas en grados Celsius y calcule su promedio. La lectura debe detenerse al ingresar el valor -273°C."
      ],
      "metadata": {
        "id": "1N4cjFvpwVng"
      }
    },
    {
      "cell_type": "code",
      "source": [
        "for c in range (0,-274)\n",
        "temperatura ="
      ],
      "metadata": {
        "id": "gtMKe1lYwWPm"
      },
      "execution_count": null,
      "outputs": []
    },
    {
      "cell_type": "markdown",
      "source": [
        "5 - Escribe un programa que calcule el factorial de un número entero proporcionado por el usuario. Recuerda que el factorial de un número entero es el producto de ese número por todos sus antecesores hasta llegar al número 1. Por ejemplo, el factorial de 5 es 5 x 4 x 3 x 2 x 1 = 120."
      ],
      "metadata": {
        "id": "Hrkl2H-swY9G"
      }
    },
    {
      "cell_type": "code",
      "source": [],
      "metadata": {
        "id": "yx590sqxwZdJ"
      },
      "execution_count": null,
      "outputs": []
    },
    {
      "cell_type": "markdown",
      "source": [
        "**Momento de los proyectos**"
      ],
      "metadata": {
        "id": "ZC3PUXiEwcWg"
      }
    },
    {
      "cell_type": "markdown",
      "source": [
        "6 - Escribe un programa que genere la tabla de multiplicar de un número entero del 1 al 10, según la elección del usuario. Como ejemplo, para el número 2, la tabla de multiplicar debe mostrarse en el siguiente formato:"
      ],
      "metadata": {
        "id": "xOw7PeEPwcIN"
      }
    },
    {
      "cell_type": "code",
      "source": [
        "Tabla de multiplicar del 2:\n",
        "2 x 1 = 2\n",
        "2 x 2 = 4\n",
        "[...]\n",
        "2 x 10 = 20"
      ],
      "metadata": {
        "id": "EEYqefinwlEs"
      },
      "execution_count": null,
      "outputs": []
    },
    {
      "cell_type": "code",
      "source": [],
      "metadata": {
        "id": "ci5mDSe6wnlV"
      },
      "execution_count": null,
      "outputs": []
    },
    {
      "cell_type": "markdown",
      "source": [
        "7 - Los números primos tienen diversas aplicaciones en Ciencia de Datos, como en criptografía y seguridad. Un número primo es aquel que es divisible solo por sí mismo y por 1. Por lo tanto, crea un programa que solicite un número entero y determine si es un número primo o no."
      ],
      "metadata": {
        "id": "sqPuuztLwscv"
      }
    },
    {
      "cell_type": "code",
      "source": [],
      "metadata": {
        "id": "iXQJtKkXwtVf"
      },
      "execution_count": null,
      "outputs": []
    },
    {
      "cell_type": "markdown",
      "source": [
        "8 - Vamos a comprender la distribución de edades de los pensionistas de una empresa de seguros. Escribe un programa que lea las edades de una cantidad no informada de clientes y muestre la distribución en los intervalos [0-25], [26-50], [51-75] y [76-100]. La entrada de datos se detendrá al ingresar un número negativo."
      ],
      "metadata": {
        "id": "J_TEw-zAwvOG"
      }
    },
    {
      "cell_type": "code",
      "source": [],
      "metadata": {
        "id": "XqbRGPENwv2s"
      },
      "execution_count": null,
      "outputs": []
    },
    {
      "cell_type": "markdown",
      "source": [
        "9 - En una elección para la gerencia de una empresa con 20 empleados, hay cuatro candidatos. Escribe un programa que calcule al ganador de la elección. La votación se realizó de la siguiente manera:\n",
        "\n",
        "Cada empleado votó por uno de los cuatro candidatos (representados por los números 1, 2, 3 y 4).\n",
        "\n",
        "También se contaron los votos nulos (representados por el número 5) y los votos en blanco (representados por el número 6).\n",
        "\n",
        "Al final de la votación, el programa debe mostrar el número total de votos para cada candidato, los votos nulos y los votos en blanco. Además, debe calcular y mostrar el porcentaje de votos nulos con respecto al total de votos y el porcentaje de votos en blanco con respecto al total de votos."
      ],
      "metadata": {
        "id": "SUIRA1TSw0RP"
      }
    },
    {
      "cell_type": "code",
      "source": [],
      "metadata": {
        "id": "R0HJbFFJw08g"
      },
      "execution_count": null,
      "outputs": []
    }
  ]
}