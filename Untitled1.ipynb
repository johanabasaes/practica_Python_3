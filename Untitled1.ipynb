{
  "nbformat": 4,
  "nbformat_minor": 0,
  "metadata": {
    "colab": {
      "provenance": [],
      "authorship_tag": "ABX9TyM5jweB2s65mDjx0MYaAPbY",
      "include_colab_link": true
    },
    "kernelspec": {
      "name": "python3",
      "display_name": "Python 3"
    },
    "language_info": {
      "name": "python"
    }
  },
  "cells": [
    {
      "cell_type": "markdown",
      "metadata": {
        "id": "view-in-github",
        "colab_type": "text"
      },
      "source": [
        "<a href=\"https://colab.research.google.com/github/johanabasaes/practica_Python_3/blob/main/Untitled1.ipynb\" target=\"_parent\"><img src=\"https://colab.research.google.com/assets/colab-badge.svg\" alt=\"Open In Colab\"/></a>"
      ]
    },
    {
      "cell_type": "markdown",
      "source": [
        "Vamos practicar el uso de estructuras de repetición como el \"while\" y el \"for\" a partir de algunas actividades. Ahora que estamos avanzando en el contenido, podemos hacer los desafíos más interesantes. ¡Para ello, trabajaremos en proyectos de código!\n",
        "\n",
        "Comencemos resolviendo algunos problemas para calentar y prepararnos para los proyectos.\n",
        "\n",
        "**Entrenando la programación**"
      ],
      "metadata": {
        "id": "76S8iqgYgjWh"
      }
    },
    {
      "cell_type": "markdown",
      "source": [
        "1 - Escribe un programa que solicite dos números enteros e imprima todos los números enteros entre ellos."
      ],
      "metadata": {
        "id": "IK0_UScwgsY3"
      }
    },
    {
      "cell_type": "code",
      "execution_count": null,
      "metadata": {
        "colab": {
          "base_uri": "https://localhost:8080/"
        },
        "id": "Fw8aeHDLgfbD",
        "outputId": "e602a502-00a1-4944-c8a3-68601d895cf0"
      },
      "outputs": [
        {
          "output_type": "stream",
          "name": "stdout",
          "text": [
            "Ingrese el primer número: 1\n",
            "Ingrese el segundo número: 20\n",
            "2\n",
            "3\n",
            "4\n",
            "5\n",
            "6\n",
            "7\n",
            "8\n",
            "9\n",
            "10\n",
            "11\n",
            "12\n",
            "13\n",
            "14\n",
            "15\n",
            "16\n",
            "17\n",
            "18\n",
            "19\n"
          ]
        }
      ],
      "source": [
        "numero_1 = int(input(\"Ingrese el primer número: \"))\n",
        "numero_2 = int(input(\"Ingrese el segundo número: \"))\n",
        "for n in range(numero_1, numero_2):\n",
        "  if n == (numero_2 - 1):\n",
        "    break\n",
        "  print(n+1)"
      ]
    },
    {
      "cell_type": "markdown",
      "source": [
        "2 - Escribe un programa para calcular cuántos días tomará que la colonia de una bacteria A supere o iguale a la colonia de una bacteria B, basado en tasas de crecimiento del 3% y 1.5%, respectivamente. Supón que la colonia A comienza con 4 elementos y B con 10."
      ],
      "metadata": {
        "id": "VHNCmMarq0VF"
      }
    },
    {
      "cell_type": "code",
      "source": [
        "A = 4\n",
        "B = 10\n",
        "tasa_A = 0.03\n",
        "tasa_B = 0.015\n",
        "dias = 0\n",
        "while A <= B:\n",
        "  A *= (1 + tasa_A)\n",
        "  B *= (1 + tasa_B)\n",
        "  dias += 1\n",
        "print(f\"Tomará {dias} días para que la colonia A supere a la colonia B.\")\n"
      ],
      "metadata": {
        "colab": {
          "base_uri": "https://localhost:8080/"
        },
        "id": "mZFOrHT-hmIg",
        "outputId": "e0147719-7920-4b34-c1f3-87e3459de1c0"
      },
      "execution_count": null,
      "outputs": [
        {
          "output_type": "stream",
          "name": "stdout",
          "text": [
            "Tomará 63 días para que la colonia A supere a la colonia B.\n"
          ]
        }
      ]
    },
    {
      "cell_type": "markdown",
      "source": [
        "3 - Para procesar una cantidad de 15 datos de evaluaciones de usuarios de un servicio de la empresa, necesitamos verificar si las calificaciones son válidas. Por lo tanto, escribe un programa que recibirá calificaciones del 0 al 5 y verificará si son valores válidos. Si se ingresa una calificación superior a 5 o inferior a 0, se repetirá hasta que el usuario ingrese un valor válido."
      ],
      "metadata": {
        "id": "2qsoryRLwRj4"
      }
    },
    {
      "cell_type": "code",
      "source": [
        "for e in range(1,16):\n",
        "  calificación = float (input(f'ingrese la calificación del usuario {e}: '))\n",
        "  while (calificación > 5) or (calificación < 0):\n",
        "    calificación = float(input(f'la calificación del alumno {e} no es válida, ingrese una calificación válida: '))\n",
        "print(f'los datos de todos los usuarios son válidos')\n"
      ],
      "metadata": {
        "colab": {
          "base_uri": "https://localhost:8080/"
        },
        "id": "51EbdFZMG-nT",
        "outputId": "2539cb86-eea4-4a97-83ac-56686389ef17"
      },
      "execution_count": null,
      "outputs": [
        {
          "output_type": "stream",
          "name": "stdout",
          "text": [
            "ingrese la calificación del usuario 1: 5\n",
            "ingrese la calificación del usuario 2: 6\n",
            "la calificación del alumno 2 no es válida, ingrese una calificación válida: 4\n",
            "ingrese la calificación del usuario 3: 5\n",
            "ingrese la calificación del usuario 4: 1\n",
            "ingrese la calificación del usuario 5: 21\n",
            "la calificación del alumno 5 no es válida, ingrese una calificación válida: 2\n",
            "ingrese la calificación del usuario 6: 3\n",
            "ingrese la calificación del usuario 7: 4\n",
            "ingrese la calificación del usuario 8: 5\n",
            "ingrese la calificación del usuario 9: 12\n",
            "la calificación del alumno 9 no es válida, ingrese una calificación válida: 2\n",
            "ingrese la calificación del usuario 10: 3\n",
            "ingrese la calificación del usuario 11: 4\n",
            "ingrese la calificación del usuario 12: 5\n",
            "ingrese la calificación del usuario 13: 6\n",
            "la calificación del alumno 13 no es válida, ingrese una calificación válida: 1\n",
            "ingrese la calificación del usuario 14: 2\n",
            "ingrese la calificación del usuario 15: 5\n",
            "los datos de todos los usuarios son válidos\n"
          ]
        }
      ]
    },
    {
      "cell_type": "code",
      "source": [
        "5# Bucle para recopilar las 15 notas\n",
        "for i in range(15):\n",
        "  nota = float(input(f'Ingresa la nota del usuario {i}: '))\n",
        "\n",
        "  # Verifica si la nota está entre 0 y 5\n",
        "  # Si no lo está, el bucle se repetirá hasta que se obtenga un valor válido\n",
        "  while (nota < 0) or (nota > 5):\n",
        "    nota = float(input(f'Nota no válida, ingresa nuevamente la nota del usuario {i}: '))\n",
        "\n",
        "print('Verificación completa. Todas las notas son válidas.')"
      ],
      "metadata": {
        "id": "6MuzR6DpKKHv"
      },
      "execution_count": null,
      "outputs": []
    },
    {
      "cell_type": "markdown",
      "source": [
        "4 - Desarrolla un programa que lea un conjunto indefinido de temperaturas en grados Celsius y calcule su promedio. La lectura debe detenerse al ingresar el valor -273°C."
      ],
      "metadata": {
        "id": "1N4cjFvpwVng"
      }
    },
    {
      "cell_type": "code",
      "source": [
        "temperatura = float(input('ingrese la temperatura en grados celcius:  '))\n",
        "suma = 0\n",
        "c = 0\n",
        "while temperatura != -273:\n",
        "  suma += temperatura\n",
        "  c += 1\n",
        "  temperatura = float(input('ingrese la temperatura en grados celcius:  '))\n",
        "promedio = suma / c\n",
        "print(f'el promedio de las temperaturas ingresadas es: {promedio}')"
      ],
      "metadata": {
        "id": "gtMKe1lYwWPm",
        "colab": {
          "base_uri": "https://localhost:8080/"
        },
        "outputId": "feb45dc3-d240-419e-93a7-52091e4152ab"
      },
      "execution_count": 6,
      "outputs": [
        {
          "output_type": "stream",
          "name": "stdout",
          "text": [
            "ingrese la temperatura en grados celcius:  30\n",
            "ingrese la temperatura en grados celcius:  99\n",
            "ingrese la temperatura en grados celcius:  99\n",
            "ingrese la temperatura en grados celcius:  -300\n",
            "ingrese la temperatura en grados celcius:  -300\n",
            "ingrese la temperatura en grados celcius:  -500\n",
            "ingrese la temperatura en grados celcius:  -300\n",
            "ingrese la temperatura en grados celcius:  -273\n",
            "el promedio de las temperaturas ingresadas es: -167.42857142857142\n"
          ]
        }
      ]
    },
    {
      "cell_type": "markdown",
      "source": [
        "5 - Escribe un programa que calcule el factorial de un número entero proporcionado por el usuario. Recuerda que el factorial de un número entero es el producto de ese número por todos sus antecesores hasta llegar al número 1. Por ejemplo, el factorial de 5 es 5 x 4 x 3 x 2 x 1 = 120."
      ],
      "metadata": {
        "id": "Hrkl2H-swY9G"
      }
    },
    {
      "cell_type": "code",
      "source": [
        "numero = int(input('ingrese un número entero: '))\n",
        "factorial =1\n",
        "for e in range(1, numero+1):\n",
        "  factorial *= e\n",
        "print(f'el factorial de {numero} es {factorial}')\n"
      ],
      "metadata": {
        "id": "yx590sqxwZdJ",
        "colab": {
          "base_uri": "https://localhost:8080/"
        },
        "outputId": "319a3361-0b0f-4526-9f59-cc5fc280fd45"
      },
      "execution_count": 10,
      "outputs": [
        {
          "output_type": "stream",
          "name": "stdout",
          "text": [
            "ingrese un número entero: 6\n",
            "el factorial de 6 es 720\n"
          ]
        }
      ]
    },
    {
      "cell_type": "markdown",
      "source": [
        "\n",
        "**Momento de los proyectos**"
      ],
      "metadata": {
        "id": "ZC3PUXiEwcWg"
      }
    },
    {
      "cell_type": "markdown",
      "source": [
        "6 - Escribe un programa que genere la tabla de multiplicar de un número entero del 1 al 10, según la elección del usuario. Como ejemplo, para el número 2, la tabla de multiplicar debe mostrarse en el siguiente formato:"
      ],
      "metadata": {
        "id": "xOw7PeEPwcIN"
      }
    },
    {
      "cell_type": "code",
      "source": [
        "Tabla de multiplicar del 2:\n",
        "2 x 1 = 2\n",
        "2 x 2 = 4\n",
        "[...]\n",
        "2 x 10 = 20"
      ],
      "metadata": {
        "id": "EEYqefinwlEs"
      },
      "execution_count": null,
      "outputs": []
    },
    {
      "cell_type": "code",
      "source": [
        "numero = int(input('ingrese un número entero del 1 al 10: '))\n",
        "for e in range(1,11):\n",
        "  print(f'{numero} x {e} = {numero * e}')\n"
      ],
      "metadata": {
        "id": "ci5mDSe6wnlV",
        "colab": {
          "base_uri": "https://localhost:8080/"
        },
        "outputId": "89595f84-8b31-4c13-ac1d-88f02983904a"
      },
      "execution_count": 12,
      "outputs": [
        {
          "output_type": "stream",
          "name": "stdout",
          "text": [
            "ingrese un número entero del 1 al 10: 4\n",
            "4 x 1 = 4\n",
            "4 x 2 = 8\n",
            "4 x 3 = 12\n",
            "4 x 4 = 16\n",
            "4 x 5 = 20\n",
            "4 x 6 = 24\n",
            "4 x 7 = 28\n",
            "4 x 8 = 32\n",
            "4 x 9 = 36\n",
            "4 x 10 = 40\n"
          ]
        }
      ]
    },
    {
      "cell_type": "markdown",
      "source": [
        "7 - Los números primos tienen diversas aplicaciones en Ciencia de Datos, como en criptografía y seguridad. Un número primo es aquel que es divisible solo por sí mismo y por 1. Por lo tanto, crea un programa que solicite un número entero y determine si es un número primo o no."
      ],
      "metadata": {
        "id": "sqPuuztLwscv"
      }
    },
    {
      "cell_type": "code",
      "source": [
        "numero = int(input('ingrese un número entero: '))\n",
        "if numero > 1:\n",
        "  for e in range(2, numero):\n",
        "    if numero % e == 0:\n",
        "      print(f'{numero} no es un número primo')\n",
        "      break\n",
        "  else:\n",
        "    print(f'{numero} es un número primo')\n",
        "\n",
        "else:\n",
        "  print(f'{numero} no es un número primo')\n"
      ],
      "metadata": {
        "id": "iXQJtKkXwtVf",
        "colab": {
          "base_uri": "https://localhost:8080/"
        },
        "outputId": "367e875a-535a-428c-e4c9-acfa6c165e3f"
      },
      "execution_count": 36,
      "outputs": [
        {
          "output_type": "stream",
          "name": "stdout",
          "text": [
            "ingrese un número entero: 4\n",
            "4 no es un número primo\n"
          ]
        }
      ]
    },
    {
      "cell_type": "markdown",
      "source": [
        "\n",
        "8 - Vamos a comprender la distribución de edades de los pensionistas de una empresa de seguros. Escribe un programa que lea las edades de una cantidad no informada de clientes y muestre la distribución en los intervalos [0-25], [26-50], [51-75] y [76-100]. La entrada de datos se detendrá al ingresar un número negativo."
      ],
      "metadata": {
        "id": "J_TEw-zAwvOG"
      }
    },
    {
      "cell_type": "code",
      "source": [
        "edad = int(input('ingrese la edad o número negativo para finalizar: '))\n",
        "contador_0_a_25 = 0\n",
        "contador_26_a_50 = 0\n",
        "contador_51_a_75 = 0\n",
        "contador_76_a_100 = 0\n",
        "\n",
        "while edad >= 0:\n",
        "  if edad <= 25 and edad >= 0:\n",
        "    contador_0_a_25 += 1\n",
        "  elif edad >= 26 and edad <=50:\n",
        "    contador_26_a_50 += 1\n",
        "  elif edad >= 51 and edad <=75:\n",
        "    contador_51_a_75 += 1\n",
        "  elif edad >= 76 and edad <=100:\n",
        "    contador_76_a_100 += 1\n",
        "  edad = int(input('ingrese la edad o número negativo para finalizar: '))\n",
        "\n",
        "print('Distribución de edades:')\n",
        "print('[0-25]: ', contador_0_a_25)\n",
        "print('[26-50]: ', contador_26_a_50)\n",
        "print('[51-75]: ', contador_51_a_75)\n",
        "print('[76-100]: ', contador_76_a_100)\n"
      ],
      "metadata": {
        "id": "XqbRGPENwv2s",
        "colab": {
          "base_uri": "https://localhost:8080/"
        },
        "outputId": "0499a52f-954b-48c8-e0bc-c880ebb4bdc0"
      },
      "execution_count": 56,
      "outputs": [
        {
          "output_type": "stream",
          "name": "stdout",
          "text": [
            "ingrese la edad o número negativo para finalizar: 9\n",
            "ingrese la edad o número negativo para finalizar: 99\n",
            "ingrese la edad o número negativo para finalizar: 50\n",
            "ingrese la edad o número negativo para finalizar: 51\n",
            "ingrese la edad o número negativo para finalizar: 40\n",
            "ingrese la edad o número negativo para finalizar: 25\n",
            "ingrese la edad o número negativo para finalizar: 26\n",
            "ingrese la edad o número negativo para finalizar: -9\n",
            "Distribución de edades:\n",
            "[0-25]:  2\n",
            "[26-50]:  3\n",
            "[51-75]:  1\n",
            "[76-100]:  1\n"
          ]
        }
      ]
    },
    {
      "cell_type": "markdown",
      "source": [
        "9 - En una elección para la gerencia de una empresa con 20 empleados, hay cuatro candidatos. Escribe un programa que calcule al ganador de la elección. La votación se realizó de la siguiente manera:\n",
        "\n",
        "Cada empleado votó por uno de los cuatro candidatos (representados por los números 1, 2, 3 y 4).\n",
        "\n",
        "También se contaron los votos nulos (representados por el número 5) y los votos en blanco (representados por el número 6).\n",
        "\n",
        "Al final de la votación, el programa debe mostrar el número total de votos para cada candidato, los votos nulos y los votos en blanco. Además, debe calcular y mostrar el porcentaje de votos nulos con respecto al total de votos y el porcentaje de votos en blanco con respecto al total de votos."
      ],
      "metadata": {
        "id": "SUIRA1TSw0RP"
      }
    },
    {
      "cell_type": "code",
      "source": [
        "contador_1 = 0\n",
        "contador_2 = 0\n",
        "contador_3 = 0\n",
        "contador_4 = 0\n",
        "contador_5 = 0\n",
        "contador_6 = 0\n",
        "\n",
        "for voto in range(1,21):\n",
        "  voto = int(input('ingrese el número de su candidato: '))\n",
        "  if voto == 1:\n",
        "    contador_1 += 1\n",
        "  elif voto == 2:\n",
        "    contador_2 += 1\n",
        "  elif voto == 3:\n",
        "    contador_3 += 1\n",
        "  elif voto == 4:\n",
        "    contador_4 += 1\n",
        "  elif voto == 5:\n",
        "    contador_5 += 1\n",
        "  elif voto == 6:\n",
        "    contador_6 += 1\n",
        "  else:\n",
        "    print('el voto ingresado no es válido')\n",
        "\n",
        "porcentaje_nulos = (contador_5 / 20) * 100\n",
        "porcentaje_blanco = (contador_6 / 20) * 100\n",
        "\n",
        "print('total de votos:')\n",
        "print('cadidato 1: ', contador_1)\n",
        "print('candidato 2: ', contador_2)\n",
        "print('candidado 3: ', contador_3)\n",
        "print('candidato 4: ', contador_4)\n",
        "print('votos nulos: ', contador_5)\n",
        "print('votos en blanco: ', contador_6)\n",
        "print(f'el porcentaje de votos nulos es: {porcentaje_nulos}')\n",
        "print(f'el porcentaje de votos en blanco es: {porcentaje_blanco}')"
      ],
      "metadata": {
        "id": "R0HJbFFJw08g",
        "colab": {
          "base_uri": "https://localhost:8080/"
        },
        "outputId": "1cc23fca-987f-4632-dc9d-a973a253335e"
      },
      "execution_count": 3,
      "outputs": [
        {
          "output_type": "stream",
          "name": "stdout",
          "text": [
            "ingrese el número de su candidato: 1\n",
            "ingrese el número de su candidato: 1\n",
            "ingrese el número de su candidato: 1\n",
            "ingrese el número de su candidato: 3\n",
            "ingrese el número de su candidato: 3\n",
            "ingrese el número de su candidato: 3\n",
            "ingrese el número de su candidato: 4\n",
            "ingrese el número de su candidato: 4\n",
            "ingrese el número de su candidato: 20\n",
            "el voto ingresado no es válido\n",
            "ingrese el número de su candidato: 3\n",
            "ingrese el número de su candidato: 5\n",
            "ingrese el número de su candidato: 22\n",
            "el voto ingresado no es válido\n",
            "ingrese el número de su candidato: 4\n",
            "ingrese el número de su candidato: 6\n",
            "ingrese el número de su candidato: 5\n",
            "ingrese el número de su candidato: 6\n",
            "ingrese el número de su candidato: 5\n",
            "ingrese el número de su candidato: 2\n",
            "ingrese el número de su candidato: 2\n",
            "ingrese el número de su candidato: 2\n",
            "total de votos:\n",
            "cadidato 1:  3\n",
            "candidato 2:  3\n",
            "candidado 3:  4\n",
            "candidato 4:  3\n",
            "votos nulos:  3\n",
            "votos en blanco:  2\n",
            "el porcentaje de votos nulos es: 15.0\n",
            "el porcentaje de votos en blanco es: 10.0\n"
          ]
        }
      ]
    },
    {
      "cell_type": "code",
      "source": [],
      "metadata": {
        "id": "X9lXHN-xUudy"
      },
      "execution_count": null,
      "outputs": []
    }
  ]
}